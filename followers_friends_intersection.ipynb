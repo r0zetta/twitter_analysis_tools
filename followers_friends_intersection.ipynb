{
 "cells": [
  {
   "cell_type": "code",
   "execution_count": 20,
   "metadata": {},
   "outputs": [],
   "source": [
    "import json"
   ]
  },
  {
   "cell_type": "code",
   "execution_count": 25,
   "metadata": {
    "collapsed": true
   },
   "outputs": [],
   "source": [
    "def get_intersection(name):\n",
    "    print(name)\n",
    "    print(\"========\")\n",
    "    filename = \"captures/users/\" + name + \"/all_data.json\"\n",
    "    f = open(filename, \"r\")\n",
    "    all_data = json.load(f)\n",
    "    f.close()\n",
    "    followers = all_data[\"followers_ids\"]\n",
    "    friends = all_data[\"friends_ids\"]\n",
    "    print(\"Followers: \" + str(len(followers)))\n",
    "    print(\"Friends: \" + str(len(friends)))\n",
    "    inter = list(set(followers).intersection(set(friends)))\n",
    "    print(\"Intersection: \" + str(len(inter)))\n",
    "    return inter"
   ]
  },
  {
   "cell_type": "code",
   "execution_count": 27,
   "metadata": {},
   "outputs": [
    {
     "name": "stdout",
     "output_type": "stream",
     "text": [
      "Ellie_the_Fairy\n",
      "========\n",
      "Followers: 5000\n",
      "Friends: 4839\n",
      "Intersection: 4504\n",
      "\n",
      "SteveMcGill52\n",
      "========\n",
      "Followers: 4514\n",
      "Friends: 4997\n",
      "Intersection: 3985\n",
      "\n",
      "r0zetta\n",
      "========\n",
      "Followers: 1377\n",
      "Friends: 652\n",
      "Intersection: 188\n",
      "\n",
      "stephenhawes2\n",
      "========\n",
      "Followers: 3156\n",
      "Friends: 3745\n",
      "Intersection: 1863\n",
      "\n",
      "PaulineLancas18\n",
      "========\n",
      "Followers: 889\n",
      "Friends: 409\n",
      "Intersection: 166\n",
      "\n",
      "45harisonharold\n",
      "========\n",
      "Followers: 1413\n",
      "Friends: 1627\n",
      "Intersection: 1006\n",
      "\n"
     ]
    }
   ],
   "source": [
    "names = [\"Ellie_the_Fairy\", \"SteveMcGill52\", \"r0zetta\", \"stephenhawes2\", \"PaulineLancas18\", \"45harisonharold\"]\n",
    "for n in names:\n",
    "    inter = get_intersection(n)\n",
    "    print(\"\")"
   ]
  },
  {
   "cell_type": "code",
   "execution_count": null,
   "metadata": {
    "collapsed": true
   },
   "outputs": [],
   "source": []
  }
 ],
 "metadata": {
  "kernelspec": {
   "display_name": "Python 3",
   "language": "python",
   "name": "python3"
  },
  "language_info": {
   "codemirror_mode": {
    "name": "ipython",
    "version": 3
   },
   "file_extension": ".py",
   "mimetype": "text/x-python",
   "name": "python",
   "nbconvert_exporter": "python",
   "pygments_lexer": "ipython3",
   "version": "3.6.5"
  }
 },
 "nbformat": 4,
 "nbformat_minor": 2
}
